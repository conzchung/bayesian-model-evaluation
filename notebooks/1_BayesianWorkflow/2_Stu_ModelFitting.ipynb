{
 "cells": [
  {
   "cell_type": "markdown",
   "metadata": {},
   "source": [
    "# Section 1.2 Introduction to Model Fitting"
   ]
  },
  {
   "cell_type": "code",
   "execution_count": null,
   "metadata": {},
   "outputs": [],
   "source": [
    "import pymc3 as pm\n",
    "import numpy as np\n",
    "import arviz as az\n",
    "import matplotlib.pyplot as plt"
   ]
  },
  {
   "cell_type": "code",
   "execution_count": null,
   "metadata": {},
   "outputs": [],
   "source": [
    "az.style.use('arviz-white')"
   ]
  },
  {
   "cell_type": "markdown",
   "metadata": {},
   "source": [
    "## Activity 1: Estimate the Proportion of Water\n",
    "\n",
    "Now it's your turn to work through an example inspired from Richard McElreath's excellent book [Statistical Rethinking](https://www.amazon.com/Statistical-Rethinking-Bayesian-Examples-Chapman/dp/1482253445/)\n",
    "\n",
    "### How much of a planet is covered in water?\n",
    "\n",
    "Good news: you're an astronomer that just discovered a new planet. Bad news: your telescope has a small field of view and you can only see one tiny point on the planet at a time. More bad news: you're also a starving grad student and you can only take 5 measurements on your monthly stipend. \n",
    "\n",
    "**With 5 measurements what is your estimate for how much of the planet is covered in water?**"
   ]
  },
  {
   "cell_type": "markdown",
   "metadata": {},
   "source": [
    "\n",
    "You are trying to estimate $\\theta$ where\n",
    "$$\\theta = \\text{Proportion of water on the planet}$$\n",
    "\n",
    "Your model is formulated as follows\n",
    "\n",
    "$$ \n",
    "\\theta \\sim \\operatorname{Uniform}(0,1) \\\\\n",
    "p_{\\text{water}} \\sim \\operatorname{Binom}(\\theta, N)\n",
    "$$\n",
    "\n",
    "(Note: the probability density function for $\\operatorname{Uniform}(0, 1)$ is the same as for $\\operatorname{Beta}(1, 1)$)"
   ]
  },
  {
   "cell_type": "markdown",
   "metadata": {},
   "source": [
    "### Exercise 1\n",
    "* What is the prior in this model? What does the prior intuitively mean?"
   ]
  },
  {
   "cell_type": "markdown",
   "metadata": {},
   "source": [
    "*Type your answer here*"
   ]
  },
  {
   "cell_type": "markdown",
   "metadata": {},
   "source": [
    "### Exercise 2\n",
    "* What is the likelihood in the model? What does the likelihood intuitively mean?"
   ]
  },
  {
   "cell_type": "markdown",
   "metadata": {},
   "source": [
    "*Type your answer here*"
   ]
  },
  {
   "cell_type": "markdown",
   "metadata": {},
   "source": [
    "### Exercise 3\n",
    "Using the data provided below fit your model to estimate the proportion of water on the planet using PyStan or PyMC3. We have provided the PyMC3 model but please feel free to use the PPL you're more comfortable with.\n",
    "\n",
    "After the fitting the model and plotting the posterior how \"certain\" are you about the proportion of water on this planet?"
   ]
  },
  {
   "cell_type": "code",
   "execution_count": null,
   "metadata": {},
   "outputs": [],
   "source": [
    "# A value of 0 signifies a land observation, a value of 1 signifies a water observation\n",
    "observations = [0, 0, 1, 0, 1]\n",
    "water_observations = sum(observations)\n",
    "total_observations = len(observations)"
   ]
  },
  {
   "cell_type": "code",
   "execution_count": null,
   "metadata": {},
   "outputs": [],
   "source": [
    "with pm.Model() as planet_model:\n",
    "    # Prior\n",
    "    p_water = pm.Uniform(\"p_water\", 0 ,1)\n",
    "    \n",
    "    # Likelihood\n",
    "    w = pm.Binomial(\"w\", p=p_water, n=total_observations, observed=water_observations)\n",
    "    \n",
    "    # Inference Run/ Markov chain Monte Carlo \n",
    "    trace_5_obs = pm.sample(5000, chains=2)"
   ]
  },
  {
   "cell_type": "code",
   "execution_count": null,
   "metadata": {},
   "outputs": [],
   "source": [
    "az.plot_posterior(trace_5_obs)"
   ]
  },
  {
   "cell_type": "markdown",
   "metadata": {},
   "source": [
    "### Exercise 4: Collect more data and get a new posterior\n",
    "With some extra funding you're now able make 500 observations of this planet.\n",
    "\n",
    "Using your inution, with more observations will you be more or less certain about the amount of water on a planet?\n",
    "Do the results match your expectations?"
   ]
  },
  {
   "cell_type": "code",
   "execution_count": null,
   "metadata": {},
   "outputs": [],
   "source": [
    "one_hundred_times_the_observations = [0, 0, 1, 0, 1]*100\n",
    "water_observations = sum(one_hundred_times_the_observations)\n",
    "total_observations = len(one_hundred_times_the_observations)\n",
    "\n",
    "with pm.Model() as planet_model_2:\n",
    "    p_water = pm.Uniform(\"p_water\", 0 ,1)\n",
    "    w = pm.Binomial(\"w\", p=p_water, n=total_observations, observed=water_observations)\n",
    "    trace_more_obs = pm.sample(5000, chains=2)\n",
    "    \n",
    "az.plot_posterior(trace_more_obs)"
   ]
  },
  {
   "cell_type": "markdown",
   "metadata": {},
   "source": [
    "### Exercise 5: A new planet\n",
    "During your research you encountered a new planet. Unfortunately you once again were only able to take 5 measurements, but in those 5 you only observed land, and no water.\n",
    "\n",
    "Fit your model and see if the results look any different"
   ]
  },
  {
   "cell_type": "code",
   "execution_count": null,
   "metadata": {},
   "outputs": [],
   "source": [
    "desert_observations = [0, 0, 0, 0, 0]\n",
    "water_observations = sum(desert_observations)\n",
    "total_observations = len(desert_observations)\n",
    "\n",
    "with pm.Model() as planet_model_3:\n",
    "    p_water = pm.Uniform(\"p_water\", 0 ,1)\n",
    "    w = pm.Binomial(\"w\", p=p_water, n=total_observations, observed=water_observations)\n",
    "    trace_new_planet = pm.sample(5000, chains=2)\n",
    "    \n",
    "az.plot_posterior(trace_new_planet)"
   ]
  },
  {
   "cell_type": "markdown",
   "metadata": {},
   "source": [
    "### Exercise 5: Try out a couple ArviZ functions\n",
    "Convert your inference data to `az.InferenceData` using the methods `az.from_pymc3` or `az.from_stan`. Then try a couple plots such as \n",
    "\n",
    "* az.plot_trace\n",
    "* az.plot_autocorr\n",
    "* az.plot_forest\n",
    "\n",
    "\n",
    "Try running a summary function such as \n",
    "\n",
    "* az.summary\n",
    "\n",
    "For now don't worry too much about how to interpret these plots and statistics. This will be covered as we continue in the tutorial."
   ]
  },
  {
   "cell_type": "code",
   "execution_count": null,
   "metadata": {},
   "outputs": [],
   "source": [
    "# Convert PPL data to az.InferenceData\n",
    "inference_data = az.from_pymc3(trace_5_obs)"
   ]
  },
  {
   "cell_type": "code",
   "execution_count": null,
   "metadata": {},
   "outputs": [],
   "source": [
    "az.summary(inference_data)"
   ]
  },
  {
   "cell_type": "code",
   "execution_count": null,
   "metadata": {},
   "outputs": [],
   "source": [
    "az.plot_trace(inference_data)"
   ]
  },
  {
   "cell_type": "code",
   "execution_count": null,
   "metadata": {},
   "outputs": [],
   "source": [
    "az.plot_autocorr(inference_data)"
   ]
  },
  {
   "cell_type": "code",
   "execution_count": null,
   "metadata": {},
   "outputs": [],
   "source": [
    "az.plot_forest([trace_5_obs, trace_more_obs, trace_new_planet], model_names=[\"5_observations\", \"100_observations\", \"new_planet\"])"
   ]
  },
  {
   "cell_type": "markdown",
   "metadata": {},
   "source": [
    "## Bonus:\n",
    "Explore the ArviZ documentation to see what else is possible.  \n",
    "https://arviz-devs.github.io/arviz/"
   ]
  }
 ],
 "metadata": {
  "kernelspec": {
   "display_name": "Python 3",
   "language": "python",
   "name": "python3"
  },
  "language_info": {
   "codemirror_mode": {
    "name": "ipython",
    "version": 3
   },
   "file_extension": ".py",
   "mimetype": "text/x-python",
   "name": "python",
   "nbconvert_exporter": "python",
   "pygments_lexer": "ipython3",
   "version": "3.6.8"
  }
 },
 "nbformat": 4,
 "nbformat_minor": 2
}
