{
 "cells": [
  {
   "cell_type": "markdown",
   "metadata": {},
   "source": [
    "# Section 2.2 Data Structure Activities"
   ]
  },
  {
   "cell_type": "code",
   "execution_count": null,
   "metadata": {},
   "outputs": [],
   "source": [
    "import os\n",
    "import pymc3 as pm\n",
    "import arviz as az\n",
    "import pandas as pd\n",
    "import numpy as np\n",
    "\n",
    "if os.path.split(os.getcwd())[-1] != \"notebooks\":\n",
    "    os.chdir(os.path.join(\"..\"))\n",
    "    \n",
    "np.random.seed(0)"
   ]
  },
  {
   "cell_type": "code",
   "execution_count": null,
   "metadata": {},
   "outputs": [],
   "source": [
    "az.style.use('arviz-white')"
   ]
  },
  {
   "cell_type": "markdown",
   "metadata": {},
   "source": [
    "## Reproducing the Planet Experiment\n",
    "More good news! Your astronomical discovery, from Section 1.2, has been published, but now people want to you to share your data and results. They also are asking for help getting seeing portions of your analysis runs to inspect in greater detail."
   ]
  },
  {
   "cell_type": "markdown",
   "metadata": {},
   "source": [
    "### Exercise 1 \n",
    "Your favorite PPL is PyMC3, but it turns out your peer reviewer likes Stan. In an alternate universe your favorite PPL is Stan, but now your peer reviewer is a PyMC3 gal. Here we introduce the *Law of researcher PPL choice*  \n",
    "\n",
    "$$P(\\text{Your friends uses another PPL} | \\text{You choice of PPL}) = 1$$\n",
    "\n",
    "\n",
    "**How can we use ArviZ, Xarray, and NetCDF to share results in a common way?**  \n",
    "\n",
    "Note: We encourage you to use whatever PPL you prefer. These docs may be helpful:\n",
    "\n",
    "https://arviz-devs.github.io/arviz/api.html#data"
   ]
  },
  {
   "cell_type": "markdown",
   "metadata": {},
   "source": [
    "#### Step 1: Define your model and generate results\n",
    "The first step you'll need to take is to define your model and perform an inference run in this notebook. Recall in mathematical notation our model was as follows\n",
    "\n",
    "$$\\theta = \\text{Proportion of water on the planet}$$\n",
    "\n",
    "$$ \n",
    "\\theta \\sim \\operatorname{Uniform}(0,1) \\\\\n",
    "p_{\\text{water}} \\sim \\operatorname{Binom}(\\theta, N)\n",
    "$$"
   ]
  },
  {
   "cell_type": "code",
   "execution_count": null,
   "metadata": {},
   "outputs": [],
   "source": [
    "observations = [0, 0, 1, 0, 1]\n",
    "water_observations = sum(observations)\n",
    "total_observations = len(observations)"
   ]
  },
  {
   "cell_type": "code",
   "execution_count": null,
   "metadata": {},
   "outputs": [],
   "source": [
    "# Add your model here, and perform an inference run. \n",
    "# You can either copy the model from Section 1.2 or for a challenge define your own"
   ]
  },
  {
   "cell_type": "markdown",
   "metadata": {},
   "source": [
    "#### Step 2: Convert model results from PPL to az.InferenceData"
   ]
  },
  {
   "cell_type": "code",
   "execution_count": null,
   "metadata": {},
   "outputs": [],
   "source": [
    "# Hint: Use the az.from_ family of methods"
   ]
  },
  {
   "cell_type": "markdown",
   "metadata": {},
   "source": [
    "#### Step 3: Inspect InferenceData to see what groups exist"
   ]
  },
  {
   "cell_type": "code",
   "execution_count": null,
   "metadata": {},
   "outputs": [],
   "source": [
    "# Inspect groups here"
   ]
  },
  {
   "cell_type": "markdown",
   "metadata": {},
   "source": [
    "#### Step 4: Inspect Posterior group to verify variables count, chain count, and draw count"
   ]
  },
  {
   "cell_type": "code",
   "execution_count": null,
   "metadata": {},
   "outputs": [],
   "source": [
    "# Inspect Posterior here"
   ]
  },
  {
   "cell_type": "markdown",
   "metadata": {},
   "source": [
    "#### Step 3: Save your model to disk"
   ]
  },
  {
   "cell_type": "code",
   "execution_count": null,
   "metadata": {},
   "outputs": [],
   "source": [
    "# Save your results here"
   ]
  },
  {
   "cell_type": "markdown",
   "metadata": {},
   "source": [
    "### Exercise 2\n",
    "You've been asked to peer review a study on radon levels in Minnesota basements. The dataset is available as part of ArviZ's remote datasets. You've been asked to do a couple things."
   ]
  },
  {
   "cell_type": "markdown",
   "metadata": {},
   "source": [
    "#### Step 1: Load the NetCDF file into python memory\n",
    "*Note*: In ArviZ there are preloaded datasets. Radon is one of those. If you do not supply a dataset name to the correct method, an error message lists all the available ones."
   ]
  },
  {
   "cell_type": "code",
   "execution_count": null,
   "metadata": {},
   "outputs": [],
   "source": [
    "# Load Radon dataset. Hint look for the load_arviz_data"
   ]
  },
  {
   "cell_type": "markdown",
   "metadata": {},
   "source": [
    "#### Step 2: List all the groups\n",
    "See what analysis your colleague has already run by checking the groups present in the InferenceData object"
   ]
  },
  {
   "cell_type": "code",
   "execution_count": null,
   "metadata": {},
   "outputs": [],
   "source": [
    "# Inspect groups here"
   ]
  },
  {
   "cell_type": "markdown",
   "metadata": {},
   "source": [
    "#### Step 3: Count the number of counties included in radon study\n",
    "How many counties were included in the observed_data?\n",
    "Hint: xarray has a `.to_dataframe()` method"
   ]
  },
  {
   "cell_type": "code",
   "execution_count": null,
   "metadata": {},
   "outputs": [],
   "source": [
    "# Use xarray and pandas index to determine number of counties"
   ]
  },
  {
   "cell_type": "markdown",
   "metadata": {},
   "source": [
    "#### How many variables are in Bayesian model?\n",
    "Inspect the posterior xarray dataset and get a list of data variables in xarray."
   ]
  },
  {
   "cell_type": "code",
   "execution_count": null,
   "metadata": {},
   "outputs": [],
   "source": [
    "# Use xarray to see how many data variables exist"
   ]
  },
  {
   "cell_type": "markdown",
   "metadata": {},
   "source": [
    "#### Step 4: Select the first 10 values of chain 2 for sigma_y in the posterior\n",
    "Using the `.sel` method get the first ten values "
   ]
  },
  {
   "cell_type": "code",
   "execution_count": null,
   "metadata": {},
   "outputs": [],
   "source": [
    "# Get First ten values"
   ]
  }
 ],
 "metadata": {
  "kernelspec": {
   "display_name": "Python 3",
   "language": "python",
   "name": "python3"
  },
  "language_info": {
   "codemirror_mode": {
    "name": "ipython",
    "version": 3
   },
   "file_extension": ".py",
   "mimetype": "text/x-python",
   "name": "python",
   "nbconvert_exporter": "python",
   "pygments_lexer": "ipython3",
   "version": "3.6.8"
  }
 },
 "nbformat": 4,
 "nbformat_minor": 2
}
