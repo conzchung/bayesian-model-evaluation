{
 "cells": [
  {
   "cell_type": "markdown",
   "metadata": {},
   "source": [
    "# Section 5.2 Model Comparison Activities"
   ]
  },
  {
   "cell_type": "code",
   "execution_count": 1,
   "metadata": {},
   "outputs": [
    {
     "name": "stderr",
     "output_type": "stream",
     "text": [
      "WARNING (theano.configdefaults): install mkl with `conda install mkl-service`: No module named 'mkl'\n"
     ]
    }
   ],
   "source": [
    "import os\n",
    "import pymc3 as pm\n",
    "import numpy as np\n",
    "import arviz as az\n",
    "import pandas as pd\n",
    "from scipy import stats\n",
    "import matplotlib.pyplot as plt\n",
    "# Path Constants\n",
    "if os.path.split(os.getcwd())[-1] != \"notebooks\":\n",
    "    os.chdir(os.path.join(\"..\"))\n",
    "    \n",
    "NETCDF_DIR = \"inference_data\""
   ]
  },
  {
   "cell_type": "markdown",
   "metadata": {},
   "source": [
    "## Activity: Estimating plant height ¶\n",
    "Your plant loving statistician friend appreciated your work picking fertilizers so much she is now asking you to help her estimate plant growth over the course of 30 days. She fitted a linear model and a logarithmic model but wants you to use Information Criterion to help her select a model.\n",
    "\n",
    "She also remembered how unhappy you were that raw data wasn't provided last time and has it this time."
   ]
  },
  {
   "cell_type": "code",
   "execution_count": 2,
   "metadata": {},
   "outputs": [
    {
     "data": {
      "text/html": [
       "<div>\n",
       "<style scoped>\n",
       "    .dataframe tbody tr th:only-of-type {\n",
       "        vertical-align: middle;\n",
       "    }\n",
       "\n",
       "    .dataframe tbody tr th {\n",
       "        vertical-align: top;\n",
       "    }\n",
       "\n",
       "    .dataframe thead th {\n",
       "        text-align: right;\n",
       "    }\n",
       "</style>\n",
       "<table border=\"1\" class=\"dataframe\">\n",
       "  <thead>\n",
       "    <tr style=\"text-align: right;\">\n",
       "      <th></th>\n",
       "      <th>days</th>\n",
       "      <th>plant_height</th>\n",
       "    </tr>\n",
       "  </thead>\n",
       "  <tbody>\n",
       "    <tr>\n",
       "      <th>0</th>\n",
       "      <td>13</td>\n",
       "      <td>23.837583</td>\n",
       "    </tr>\n",
       "    <tr>\n",
       "      <th>1</th>\n",
       "      <td>16</td>\n",
       "      <td>28.985752</td>\n",
       "    </tr>\n",
       "    <tr>\n",
       "      <th>2</th>\n",
       "      <td>22</td>\n",
       "      <td>32.219378</td>\n",
       "    </tr>\n",
       "    <tr>\n",
       "      <th>3</th>\n",
       "      <td>1</td>\n",
       "      <td>6.189307</td>\n",
       "    </tr>\n",
       "    <tr>\n",
       "      <th>4</th>\n",
       "      <td>4</td>\n",
       "      <td>18.364134</td>\n",
       "    </tr>\n",
       "  </tbody>\n",
       "</table>\n",
       "</div>"
      ],
      "text/plain": [
       "   days  plant_height\n",
       "0    13     23.837583\n",
       "1    16     28.985752\n",
       "2    22     32.219378\n",
       "3     1      6.189307\n",
       "4     4     18.364134"
      ]
     },
     "execution_count": 2,
     "metadata": {},
     "output_type": "execute_result"
    }
   ],
   "source": [
    "df = pd.read_csv(os.path.join(NETCDF_DIR, \"PlantGrowthData.csv\"))\n",
    "df.head()"
   ]
  },
  {
   "cell_type": "code",
   "execution_count": 3,
   "metadata": {},
   "outputs": [
    {
     "data": {
      "text/plain": [
       "<matplotlib.axes._subplots.AxesSubplot at 0x7fd76f475cc0>"
      ]
     },
     "execution_count": 3,
     "metadata": {},
     "output_type": "execute_result"
    },
    {
     "data": {
      "image/png": "[encoded data removed]",
      "text/plain": [
       "<Figure size 432x288 with 1 Axes>"
      ]
     },
     "metadata": {
      "needs_background": "light"
     },
     "output_type": "display_data"
    }
   ],
   "source": [
    "df.plot.scatter(x=\"days\", y=\"plant_height\")"
   ]
  },
  {
   "cell_type": "markdown",
   "metadata": {},
   "source": [
    "### Post Tutorial fixup"
   ]
  },
  {
   "cell_type": "code",
   "execution_count": 8,
   "metadata": {},
   "outputs": [],
   "source": [
    "points = 50\n",
    "x = np.random.randint(1,30, points)\n",
    "ϵ = stats.norm(scale=1).rvs(size=points)\n",
    "y= 10*np.log(x+1)  + ϵ\n"
   ]
  },
  {
   "cell_type": "code",
   "execution_count": 9,
   "metadata": {},
   "outputs": [
    {
     "name": "stderr",
     "output_type": "stream",
     "text": [
      "Auto-assigning NUTS sampler...\n",
      "Initializing NUTS using jitter+adapt_diag...\n",
      "Multiprocess sampling (4 chains in 4 jobs)\n",
      "NUTS: [epsilon, α, β]\n",
      "Sampling 4 chains: 100%|██████████| 28000/28000 [00:06<00:00, 4568.37draws/s]\n"
     ]
    }
   ],
   "source": [
    "with pm.Model() as linear_model:\n",
    "    β = pm.Normal(\"β\", mu=0, sd=1)\n",
    "    α = pm.Normal(\"α\", mu=0, sd=1)\n",
    "\n",
    "    # Standard deviation can only be positive \n",
    "    ϵ = pm.HalfCauchy(\"epsilon\", 1)\n",
    "\n",
    "    y_est = pm.Normal(\"y_est\", mu=α + β*x, sd=ϵ, observed=y)\n",
    "    linear_trace = pm.sample(draws=5000, tune=2000)"
   ]
  },
  {
   "cell_type": "code",
   "execution_count": 10,
   "metadata": {},
   "outputs": [
    {
     "name": "stderr",
     "output_type": "stream",
     "text": [
      "Auto-assigning NUTS sampler...\n",
      "Initializing NUTS using jitter+adapt_diag...\n",
      "Multiprocess sampling (4 chains in 4 jobs)\n",
      "NUTS: [epsilon, α, β]\n",
      "Sampling 4 chains: 100%|██████████| 28000/28000 [00:05<00:00, 5076.83draws/s]\n"
     ]
    }
   ],
   "source": [
    "with pm.Model() as log_model:\n",
    "    β = pm.Normal(\"β\", mu=0, sd=1)\n",
    "    α = pm.Normal(\"α\", mu=0, sd=1)\n",
    "\n",
    "    # Standard deviation can only be positive \n",
    "    ϵ = pm.HalfCauchy(\"epsilon\", 1)\n",
    "\n",
    "    y_est = pm.Normal(\"y_est\", mu= β*np.log(x+α), sd=ϵ, observed=y)\n",
    "    log_trace = pm.sample(draws=5000, tune=2000)"
   ]
  },
  {
   "cell_type": "markdown",
   "metadata": {},
   "source": [
    "### Exercise 1: Is a linear or log fit better?\n",
    "Your friend has provided you some cached analysis. Normally you would have to user `az.plot_posterior` and `az.plot_trace` to verify that the MCMC run is of sufficient quality, but in this case you trust your friend's Markov Chain Monte Carlo skills so you can skip that.\n",
    "\n",
    "Which model has a preferable information criterion?"
   ]
  },
  {
   "cell_type": "code",
   "execution_count": 11,
   "metadata": {},
   "outputs": [
    {
     "name": "stderr",
     "output_type": "stream",
     "text": [
      "/home/canyon/miniconda3/envs/et/lib/python3.6/site-packages/arviz/stats/stats.py:928: UserWarning: For one or more samples the posterior variance of the log predictive\n",
      "        densities exceeds 0.4. This could be indication of WAIC starting to fail see\n",
      "        http://arxiv.org/abs/1507.04544 for details\n",
      "        \n",
      "  \"\"\"\n"
     ]
    }
   ],
   "source": [
    "comp=az.compare({\"log\":log_trace, \"linear\":linear_trace})"
   ]
  },
  {
   "cell_type": "code",
   "execution_count": 12,
   "metadata": {},
   "outputs": [
    {
     "data": {
      "text/html": [
       "<div>\n",
       "<style scoped>\n",
       "    .dataframe tbody tr th:only-of-type {\n",
       "        vertical-align: middle;\n",
       "    }\n",
       "\n",
       "    .dataframe tbody tr th {\n",
       "        vertical-align: top;\n",
       "    }\n",
       "\n",
       "    .dataframe thead th {\n",
       "        text-align: right;\n",
       "    }\n",
       "</style>\n",
       "<table border=\"1\" class=\"dataframe\">\n",
       "  <thead>\n",
       "    <tr style=\"text-align: right;\">\n",
       "      <th></th>\n",
       "      <th>waic</th>\n",
       "      <th>p_waic</th>\n",
       "      <th>d_waic</th>\n",
       "      <th>weight</th>\n",
       "      <th>se</th>\n",
       "      <th>dse</th>\n",
       "      <th>warning</th>\n",
       "      <th>waic_scale</th>\n",
       "    </tr>\n",
       "  </thead>\n",
       "  <tbody>\n",
       "    <tr>\n",
       "      <th>log</th>\n",
       "      <td>155.5</td>\n",
       "      <td>2.78632</td>\n",
       "      <td>0</td>\n",
       "      <td>1</td>\n",
       "      <td>10.4255</td>\n",
       "      <td>0</td>\n",
       "      <td>1</td>\n",
       "      <td>deviance</td>\n",
       "    </tr>\n",
       "    <tr>\n",
       "      <th>linear</th>\n",
       "      <td>307.659</td>\n",
       "      <td>1.57911</td>\n",
       "      <td>152.159</td>\n",
       "      <td>1.00243e-23</td>\n",
       "      <td>5.5751</td>\n",
       "      <td>10.8139</td>\n",
       "      <td>0</td>\n",
       "      <td>deviance</td>\n",
       "    </tr>\n",
       "  </tbody>\n",
       "</table>\n",
       "</div>"
      ],
      "text/plain": [
       "           waic   p_waic   d_waic       weight       se      dse warning  \\\n",
       "log       155.5  2.78632        0            1  10.4255        0       1   \n",
       "linear  307.659  1.57911  152.159  1.00243e-23   5.5751  10.8139       0   \n",
       "\n",
       "       waic_scale  \n",
       "log      deviance  \n",
       "linear   deviance  "
      ]
     },
     "execution_count": 12,
     "metadata": {},
     "output_type": "execute_result"
    }
   ],
   "source": [
    "comp"
   ]
  },
  {
   "cell_type": "code",
   "execution_count": 13,
   "metadata": {},
   "outputs": [
    {
     "data": {
      "text/plain": [
       "<matplotlib.axes._subplots.AxesSubplot at 0x7fd76298ca90>"
      ]
     },
     "execution_count": 13,
     "metadata": {},
     "output_type": "execute_result"
    },
    {
     "data": {
      "image/png": "[encoded data removed]",
      "text/plain": [
       "<Figure size 432x144 with 1 Axes>"
      ]
     },
     "metadata": {
      "needs_background": "light"
     },
     "output_type": "display_data"
    }
   ],
   "source": [
    "az.plot_compare(comp)"
   ]
  },
  {
   "cell_type": "markdown",
   "metadata": {},
   "source": [
    "### Exercise 2: Is one model always the better than the other?\n",
    "Your friend asks if a linear model is always better than log, or vice versa. Thinking about what you know about plant growth is it always one or the other?  \n",
    "\n",
    "Turn to your partner and discuss. There's no right or wrong answer here."
   ]
  }
 ],
 "metadata": {
  "kernelspec": {
   "display_name": "Python 3",
   "language": "python",
   "name": "python3"
  },
  "language_info": {
   "codemirror_mode": {
    "name": "ipython",
    "version": 3
   },
   "file_extension": ".py",
   "mimetype": "text/x-python",
   "name": "python",
   "nbconvert_exporter": "python",
   "pygments_lexer": "ipython3",
   "version": "3.6.10"
  }
 },
 "nbformat": 4,
 "nbformat_minor": 2
}
